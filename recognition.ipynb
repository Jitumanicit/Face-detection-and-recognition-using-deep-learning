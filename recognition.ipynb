{
 "cells": [
  {
   "cell_type": "code",
   "execution_count": 7,
   "metadata": {},
   "outputs": [],
   "source": [
    "#mport thos libraries\n",
    "import cv2\n",
    "import numpy as np\n",
    "import datetime\n",
    "import pymysql\n",
    "import pandas as pd\n",
    "#import twilio api and mailgun api for seding mail and mobile sms\n",
    "from twilio.rest import Client\n",
    "import requests"
   ]
  },
  {
   "cell_type": "code",
   "execution_count": 8,
   "metadata": {},
   "outputs": [],
   "source": [
    "dataFetched = 0"
   ]
  },
  {
   "cell_type": "code",
   "execution_count": 9,
   "metadata": {},
   "outputs": [],
   "source": [
    "try:\n",
    "    #database connect\n",
    "    db = pymysql.connect(\"localhost\",\"root\",\"\",\"face_record\")\n",
    "    cursor = db.cursor()\n",
    "    sql = \"select * from info\"\n",
    "    cursor.execute(sql)\n",
    "    data = list(cursor.fetchall())\n",
    "    column = [i[0] for i in cursor.description]\n",
    "    data = pd.DataFrame(data=data,columns=column)\n",
    "    db.close()\n",
    "    dataFetched = 1\n",
    "except:\n",
    "    dataFetched = 0"
   ]
  },
  {
   "cell_type": "code",
   "execution_count": 10,
   "metadata": {},
   "outputs": [],
   "source": [
    "def getName(idn,conf,data):\n",
    "    if conf>70:\n",
    "        return \"unknown\"\n",
    "    elif data[data['identification_no'] == str(idn)]['name'].shape[0] != 0:\n",
    "        return data[data['identification_no'] == str(idn)]['name'].iloc[0]\n",
    "    else:\n",
    "        return 0\n",
    "    #Sending mail through mailgun api it is available on mailgun website.Api code which I used below, its my own account api code.Please change this and use your api code.\n",
    "def send_simple_message(name,to,date,time):\n",
    "    return requests.post(\n",
    "        \"https://api.mailgun.net/v3/sandbox576286342d914cff8c91357070daee1f.mailgun.org/messages\",\n",
    "        auth=(\"api\", \"0fa2c029f7d4b856b08ee904525824bd-8b7bf2f1-0f79e5a2\"),\n",
    "        data={\"from\": \"postmaster@sandbox576286342d914cff8c91357070daee1f.mailgun.org\",\n",
    "              \"to\": [to],\n",
    "              \"subject\": \"Recognition\",\n",
    "              \"text\": \"Hello, \" + name + \"! You were recognised successfully on \"+ date + \" at \" + time})\n",
    "#Twilio sms api code change account_sid and auth_token from your registered account.\n",
    "def sendSMS(name,to,date,time):\n",
    "        account_sid = 'AC4a34c2f4b27b1b0998ad1650dc92bf11'\n",
    "        auth_token = 'ca538b8fcac176bf38f9530bc155b689'\n",
    "        client = Client(account_sid, auth_token)\n",
    "        body = \"Hello, \" + name + \"! You were recognised successfully on \"+ date + \" at \" + time\n",
    "        message = client.messages.create(body=body,from_='+19495183187',to=to)\n",
    "def takeAttendance(idList):\n",
    "    db = pymysql.connect(\"localhost\",\"root\",\"\",\"face_record\")\n",
    "    cursor = db.cursor()\n",
    "    idList = idList[-15:]\n",
    "    idList = list(set(idList))\n",
    "    for i in idList:\n",
    "        sql = \"insert into recognition_result(identification_no,date,time,status) values ('%d','%s','%s',%d)\" % (i,str(datetime.datetime.now().strftime('%Y-%m-%d')),str(datetime.datetime.now().strftime('%H:%M:%S')),1)\n",
    "        cursor.execute(sql)\n",
    "    db.commit()\n",
    "    name = [data[data['identification_no'] == str(x)]['name'].iloc[0] for x in idList]\n",
    "    phone = [data[data['identification_no'] == str(x)]['phone'].iloc[0] for x in idList]\n",
    "    email = [data[data['identification_no'] == str(x)]['username'].iloc[0] for x in idList]\n",
    "    date = str(datetime.datetime.now().strftime('%Y-%m-%d'))\n",
    "    time = str(datetime.datetime.now().strftime('%H-%M-%S'))\n",
    "    for x,y,z in zip(phone,email,name):\n",
    "        sendSMS(z,x,date,time)\n",
    "        send_simple_message(z,y,date,time)\n",
    "    db.close()"
   ]
  },
  {
   "cell_type": "code",
   "execution_count": 11,
   "metadata": {},
   "outputs": [],
   "source": [
    "def startRecognition():\n",
    "    idn=0\n",
    "    font = cv2.FONT_HERSHEY_SIMPLEX\n",
    "    faceDetect=cv2.CascadeClassifier('haarcascade_frontalface_default.xml');\n",
    "    cam = cv2.VideoCapture(0);\n",
    "    rec = cv2.face.LBPHFaceRecognizer_create();\n",
    "    rec.read(\"recognizer\\\\trainningData.yml\")\n",
    "    idList = []\n",
    "    try:\n",
    "        while (True):\n",
    "            ret,img =cam.read();\n",
    "            gray=cv2.cvtColor(img,cv2.COLOR_BGR2GRAY)\n",
    "            faces=faceDetect.detectMultiScale(gray, 1.3,5);\n",
    "            for(x,y,w,h) in faces:\n",
    "                cv2.rectangle(img,(x,y),(x+w,y+h),(0,0,255),2)\n",
    "                idn,conf = rec.predict(gray[y:y+h,x:x+w])\n",
    "                idList.append(idn)\n",
    "                #print(idn)\n",
    "                name = getName(idn,conf,data)\n",
    "                #print(idn,conf)\n",
    "                cv2.putText(img,name, (x,y+h),font,1,(255,0,0));\n",
    "            cv2.imshow(\"face\",img);\n",
    "            if(len(idList) == 100):\n",
    "                idList = idList[50:]\n",
    "            k = cv2.waitKey(1)\n",
    "            #press \"t\" to store data in database\n",
    "            if k == ord('t'):\n",
    "                takeAttendance(idList)\n",
    "                break\n",
    "            #press \"q\" to close the webcam window\n",
    "            elif k == ord('q'):\n",
    "                break\n",
    "\n",
    "        cam.release()\n",
    "        cv2.destroyAllWindows()\n",
    "    except:\n",
    "        cam.release()\n",
    "        cv2.destroyAllWindows()"
   ]
  },
  {
   "cell_type": "code",
   "execution_count": 12,
   "metadata": {},
   "outputs": [],
   "source": [
    "if dataFetched == 1:\n",
    "    startRecognition()\n",
    "else:\n",
    "    print(\"cant fetch data\")"
   ]
  }
 ],
 "metadata": {
  "kernelspec": {
   "display_name": "Python 3",
   "language": "python",
   "name": "python3"
  },
  "language_info": {
   "codemirror_mode": {
    "name": "ipython",
    "version": 3
   },
   "file_extension": ".py",
   "mimetype": "text/x-python",
   "name": "python",
   "nbconvert_exporter": "python",
   "pygments_lexer": "ipython3",
   "version": "3.6.5"
  }
 },
 "nbformat": 4,
 "nbformat_minor": 2
}
