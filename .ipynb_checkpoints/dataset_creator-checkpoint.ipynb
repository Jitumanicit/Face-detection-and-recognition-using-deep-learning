{
 "cells": [
  {
   "cell_type": "code",
   "execution_count": 2,
   "metadata": {},
   "outputs": [],
   "source": [
    "import cv2\n",
    "import numpy as np\n",
    "import pymysql"
   ]
  },
  {
   "cell_type": "code",
   "execution_count": 3,
   "metadata": {},
   "outputs": [],
   "source": [
    "#database connect\n",
    "db = pymysql.connect(\"localhost\",\"root\",\"\",\"face_record\")\n",
    "cursor = db.cursor()"
   ]
  },
  {
   "cell_type": "code",
   "execution_count": 4,
   "metadata": {},
   "outputs": [],
   "source": [
    "def createDataSet(idNum):\n",
    "    sampleNum=0\n",
    "    faceDetector=cv2.CascadeClassifier('haarcascade_frontalface_default.xml');\n",
    "    cam = cv2.VideoCapture(0);\n",
    "\n",
    "    while(True):\n",
    "        ret, img = cam.read();\n",
    "        gray = cv2.cvtColor(img, cv2.COLOR_BGR2GRAY)\n",
    "        faces = faceDetector.detectMultiScale(gray, 1.3, 5);\n",
    "        for (x,y,w,h) in faces:\n",
    "            sampleNum=sampleNum+1;\n",
    "            cv2.imwrite(\"dataSet/user.\"+ str(idNum) + \".\" +str(sampleNum)+\".jpg\",gray[y:y+h,x:x+w])\n",
    "            cv2.rectangle(img,(x,y),(x+w,y+h),(255,0,0),2)\n",
    "            cv2.waitKey(100);\n",
    "        cv2.imshow('frame',img);\n",
    "        cv2.waitKey(1);\n",
    "        #create 201 face image for every face reated to specific identification no.\n",
    "        if(sampleNum>200):\n",
    "            break\n",
    "\n",
    "    cam.release()\n",
    "    cv2.destroyAllWindows()"
   ]
  },
  {
   "cell_type": "code",
   "execution_count": 5,
   "metadata": {},
   "outputs": [
    {
     "name": "stdout",
     "output_type": "stream",
     "text": [
      "Enter the id no.:789\n"
     ]
    }
   ],
   "source": [
    "idNum = input(\"Enter the id no.:\")\n",
    "sql = \"select name from info where identification_no = '\" + str(idNum) + \"'\"\n",
    "cursor.execute(sql)\n",
    "data = cursor.fetchone()\n",
    "if(str(data) == 'None'):\n",
    "    print('please register first')\n",
    "else:\n",
    "    createDataSet(idNum)"
   ]
  }
 ],
 "metadata": {
  "kernelspec": {
   "display_name": "Python 3",
   "language": "python",
   "name": "python3"
  },
  "language_info": {
   "codemirror_mode": {
    "name": "ipython",
    "version": 3
   },
   "file_extension": ".py",
   "mimetype": "text/x-python",
   "name": "python",
   "nbconvert_exporter": "python",
   "pygments_lexer": "ipython3",
   "version": "3.6.5"
  }
 },
 "nbformat": 4,
 "nbformat_minor": 2
}
